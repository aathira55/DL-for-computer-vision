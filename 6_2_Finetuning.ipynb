{
  "nbformat": 4,
  "nbformat_minor": 0,
  "metadata": {
    "colab": {
      "provenance": [],
      "machine_shape": "hm",
      "include_colab_link": true
    },
    "kernelspec": {
      "name": "python3",
      "display_name": "Python 3"
    },
    "language_info": {
      "name": "python"
    },
    "accelerator": "GPU",
    "gpuClass": "standard"
  },
  "cells": [
    {
      "cell_type": "markdown",
      "metadata": {
        "id": "view-in-github",
        "colab_type": "text"
      },
      "source": [
        "<a href=\"https://colab.research.google.com/github/aathira55/DL-for-computer-vision/blob/main/6_2_Finetuning.ipynb\" target=\"_parent\"><img src=\"https://colab.research.google.com/assets/colab-badge.svg\" alt=\"Open In Colab\"/></a>"
      ]
    },
    {
      "cell_type": "code",
      "source": [
        "from google.colab import drive\n",
        "drive.mount('/content/drive')"
      ],
      "metadata": {
        "colab": {
          "base_uri": "https://localhost:8080/"
        },
        "id": "Zof-9rOL-ql7",
        "outputId": "adc50afd-e729-46c1-9ff4-a8586e2386a4"
      },
      "execution_count": 1,
      "outputs": [
        {
          "output_type": "stream",
          "name": "stdout",
          "text": [
            "Mounted at /content/drive\n"
          ]
        }
      ]
    },
    {
      "cell_type": "code",
      "source": [],
      "metadata": {
        "id": "91rEfj3nWHmr"
      },
      "execution_count": null,
      "outputs": []
    },
    {
      "cell_type": "code",
      "execution_count": 2,
      "metadata": {
        "colab": {
          "base_uri": "https://localhost:8080/"
        },
        "id": "JsYLfv0YuVPv",
        "outputId": "00c44ea9-131c-49af-d887-d96ae5fb2a35"
      },
      "outputs": [
        {
          "output_type": "stream",
          "name": "stdout",
          "text": [
            "2.9.2\n"
          ]
        }
      ],
      "source": [
        "import tensorflow as tf\n",
        "print(tf.__version__)\n",
        "\n",
        "from tensorflow import keras\n",
        "tf.random.set_seed(42)\n",
        "\n",
        "import numpy as np\n",
        "np.random.seed(42)\n",
        "\n",
        "import matplotlib.pyplot as plt\n",
        "%matplotlib inline"
      ]
    },
    {
      "cell_type": "markdown",
      "source": [
        "#Load the dataset which is already processed"
      ],
      "metadata": {
        "id": "Hdi6sVd4uiaA"
      }
    },
    {
      "cell_type": "code",
      "source": [
        "# load numpy array from npy file\n",
        "from numpy import load\n",
        "\n",
        "X_train_std = load('/content/drive/MyDrive/Models/X_train_std.npy')\n",
        "X_test_std = load('/content/drive/MyDrive/Models/X_test_std.npy')\n",
        "\n",
        "y_train = load('/content/drive/MyDrive/Models/y_train.npy')\n",
        "y_test = load('/content/drive/MyDrive/Models/y_test.npy')"
      ],
      "metadata": {
        "id": "YDyrFa4HubnX"
      },
      "execution_count": 3,
      "outputs": []
    },
    {
      "cell_type": "code",
      "source": [
        "print(\"X_train_std_shape: {}\".format(X_train_std.shape))\n",
        "print(\"X_test_std_shape: {}\".format(X_test_std.shape))"
      ],
      "metadata": {
        "id": "-zREyC3wujts",
        "outputId": "691e87fc-dbef-434e-8998-0bfbc4f730b3",
        "colab": {
          "base_uri": "https://localhost:8080/"
        }
      },
      "execution_count": 4,
      "outputs": [
        {
          "output_type": "stream",
          "name": "stdout",
          "text": [
            "X_train_std_shape: (400, 299, 299, 3)\n",
            "X_test_std_shape: (100, 299, 299, 3)\n"
          ]
        }
      ]
    },
    {
      "cell_type": "code",
      "source": [
        "# Load the saved best model\n",
        "\n",
        "model_FineTune = keras.models.load_model('/content/drive/MyDrive/Models/01_Xception_TransferLearning_Best_Model.h5')"
      ],
      "metadata": {
        "id": "6KNKodIuu1Hi"
      },
      "execution_count": 5,
      "outputs": []
    },
    {
      "cell_type": "code",
      "source": [
        "model_FineTune.summary()"
      ],
      "metadata": {
        "id": "eyf4Llhou4gQ",
        "outputId": "ea4cec29-a2cc-47b8-adeb-f519c740d7ec",
        "colab": {
          "base_uri": "https://localhost:8080/"
        }
      },
      "execution_count": 6,
      "outputs": [
        {
          "output_type": "stream",
          "name": "stdout",
          "text": [
            "Model: \"model\"\n",
            "__________________________________________________________________________________________________\n",
            " Layer (type)                   Output Shape         Param #     Connected to                     \n",
            "==================================================================================================\n",
            " input_2 (InputLayer)           [(None, None, None,  0           []                               \n",
            "                                 3)]                                                              \n",
            "                                                                                                  \n",
            " block1_conv1 (Conv2D)          (None, None, None,   864         ['input_2[0][0]']                \n",
            "                                32)                                                               \n",
            "                                                                                                  \n",
            " block1_conv1_bn (BatchNormaliz  (None, None, None,   128        ['block1_conv1[0][0]']           \n",
            " ation)                         32)                                                               \n",
            "                                                                                                  \n",
            " block1_conv1_act (Activation)  (None, None, None,   0           ['block1_conv1_bn[0][0]']        \n",
            "                                32)                                                               \n",
            "                                                                                                  \n",
            " block1_conv2 (Conv2D)          (None, None, None,   18432       ['block1_conv1_act[0][0]']       \n",
            "                                64)                                                               \n",
            "                                                                                                  \n",
            " block1_conv2_bn (BatchNormaliz  (None, None, None,   256        ['block1_conv2[0][0]']           \n",
            " ation)                         64)                                                               \n",
            "                                                                                                  \n",
            " block1_conv2_act (Activation)  (None, None, None,   0           ['block1_conv2_bn[0][0]']        \n",
            "                                64)                                                               \n",
            "                                                                                                  \n",
            " block2_sepconv1 (SeparableConv  (None, None, None,   8768       ['block1_conv2_act[0][0]']       \n",
            " 2D)                            128)                                                              \n",
            "                                                                                                  \n",
            " block2_sepconv1_bn (BatchNorma  (None, None, None,   512        ['block2_sepconv1[0][0]']        \n",
            " lization)                      128)                                                              \n",
            "                                                                                                  \n",
            " block2_sepconv2_act (Activatio  (None, None, None,   0          ['block2_sepconv1_bn[0][0]']     \n",
            " n)                             128)                                                              \n",
            "                                                                                                  \n",
            " block2_sepconv2 (SeparableConv  (None, None, None,   17536      ['block2_sepconv2_act[0][0]']    \n",
            " 2D)                            128)                                                              \n",
            "                                                                                                  \n",
            " block2_sepconv2_bn (BatchNorma  (None, None, None,   512        ['block2_sepconv2[0][0]']        \n",
            " lization)                      128)                                                              \n",
            "                                                                                                  \n",
            " conv2d_4 (Conv2D)              (None, None, None,   8192        ['block1_conv2_act[0][0]']       \n",
            "                                128)                                                              \n",
            "                                                                                                  \n",
            " block2_pool (MaxPooling2D)     (None, None, None,   0           ['block2_sepconv2_bn[0][0]']     \n",
            "                                128)                                                              \n",
            "                                                                                                  \n",
            " batch_normalization_4 (BatchNo  (None, None, None,   512        ['conv2d_4[0][0]']               \n",
            " rmalization)                   128)                                                              \n",
            "                                                                                                  \n",
            " add_12 (Add)                   (None, None, None,   0           ['block2_pool[0][0]',            \n",
            "                                128)                              'batch_normalization_4[0][0]']  \n",
            "                                                                                                  \n",
            " block3_sepconv1_act (Activatio  (None, None, None,   0          ['add_12[0][0]']                 \n",
            " n)                             128)                                                              \n",
            "                                                                                                  \n",
            " block3_sepconv1 (SeparableConv  (None, None, None,   33920      ['block3_sepconv1_act[0][0]']    \n",
            " 2D)                            256)                                                              \n",
            "                                                                                                  \n",
            " block3_sepconv1_bn (BatchNorma  (None, None, None,   1024       ['block3_sepconv1[0][0]']        \n",
            " lization)                      256)                                                              \n",
            "                                                                                                  \n",
            " block3_sepconv2_act (Activatio  (None, None, None,   0          ['block3_sepconv1_bn[0][0]']     \n",
            " n)                             256)                                                              \n",
            "                                                                                                  \n",
            " block3_sepconv2 (SeparableConv  (None, None, None,   67840      ['block3_sepconv2_act[0][0]']    \n",
            " 2D)                            256)                                                              \n",
            "                                                                                                  \n",
            " block3_sepconv2_bn (BatchNorma  (None, None, None,   1024       ['block3_sepconv2[0][0]']        \n",
            " lization)                      256)                                                              \n",
            "                                                                                                  \n",
            " conv2d_5 (Conv2D)              (None, None, None,   32768       ['add_12[0][0]']                 \n",
            "                                256)                                                              \n",
            "                                                                                                  \n",
            " block3_pool (MaxPooling2D)     (None, None, None,   0           ['block3_sepconv2_bn[0][0]']     \n",
            "                                256)                                                              \n",
            "                                                                                                  \n",
            " batch_normalization_5 (BatchNo  (None, None, None,   1024       ['conv2d_5[0][0]']               \n",
            " rmalization)                   256)                                                              \n",
            "                                                                                                  \n",
            " add_13 (Add)                   (None, None, None,   0           ['block3_pool[0][0]',            \n",
            "                                256)                              'batch_normalization_5[0][0]']  \n",
            "                                                                                                  \n",
            " block4_sepconv1_act (Activatio  (None, None, None,   0          ['add_13[0][0]']                 \n",
            " n)                             256)                                                              \n",
            "                                                                                                  \n",
            " block4_sepconv1 (SeparableConv  (None, None, None,   188672     ['block4_sepconv1_act[0][0]']    \n",
            " 2D)                            728)                                                              \n",
            "                                                                                                  \n",
            " block4_sepconv1_bn (BatchNorma  (None, None, None,   2912       ['block4_sepconv1[0][0]']        \n",
            " lization)                      728)                                                              \n",
            "                                                                                                  \n",
            " block4_sepconv2_act (Activatio  (None, None, None,   0          ['block4_sepconv1_bn[0][0]']     \n",
            " n)                             728)                                                              \n",
            "                                                                                                  \n",
            " block4_sepconv2 (SeparableConv  (None, None, None,   536536     ['block4_sepconv2_act[0][0]']    \n",
            " 2D)                            728)                                                              \n",
            "                                                                                                  \n",
            " block4_sepconv2_bn (BatchNorma  (None, None, None,   2912       ['block4_sepconv2[0][0]']        \n",
            " lization)                      728)                                                              \n",
            "                                                                                                  \n",
            " conv2d_6 (Conv2D)              (None, None, None,   186368      ['add_13[0][0]']                 \n",
            "                                728)                                                              \n",
            "                                                                                                  \n",
            " block4_pool (MaxPooling2D)     (None, None, None,   0           ['block4_sepconv2_bn[0][0]']     \n",
            "                                728)                                                              \n",
            "                                                                                                  \n",
            " batch_normalization_6 (BatchNo  (None, None, None,   2912       ['conv2d_6[0][0]']               \n",
            " rmalization)                   728)                                                              \n",
            "                                                                                                  \n",
            " add_14 (Add)                   (None, None, None,   0           ['block4_pool[0][0]',            \n",
            "                                728)                              'batch_normalization_6[0][0]']  \n",
            "                                                                                                  \n",
            " block5_sepconv1_act (Activatio  (None, None, None,   0          ['add_14[0][0]']                 \n",
            " n)                             728)                                                              \n",
            "                                                                                                  \n",
            " block5_sepconv1 (SeparableConv  (None, None, None,   536536     ['block5_sepconv1_act[0][0]']    \n",
            " 2D)                            728)                                                              \n",
            "                                                                                                  \n",
            " block5_sepconv1_bn (BatchNorma  (None, None, None,   2912       ['block5_sepconv1[0][0]']        \n",
            " lization)                      728)                                                              \n",
            "                                                                                                  \n",
            " block5_sepconv2_act (Activatio  (None, None, None,   0          ['block5_sepconv1_bn[0][0]']     \n",
            " n)                             728)                                                              \n",
            "                                                                                                  \n",
            " block5_sepconv2 (SeparableConv  (None, None, None,   536536     ['block5_sepconv2_act[0][0]']    \n",
            " 2D)                            728)                                                              \n",
            "                                                                                                  \n",
            " block5_sepconv2_bn (BatchNorma  (None, None, None,   2912       ['block5_sepconv2[0][0]']        \n",
            " lization)                      728)                                                              \n",
            "                                                                                                  \n",
            " block5_sepconv3_act (Activatio  (None, None, None,   0          ['block5_sepconv2_bn[0][0]']     \n",
            " n)                             728)                                                              \n",
            "                                                                                                  \n",
            " block5_sepconv3 (SeparableConv  (None, None, None,   536536     ['block5_sepconv3_act[0][0]']    \n",
            " 2D)                            728)                                                              \n",
            "                                                                                                  \n",
            " block5_sepconv3_bn (BatchNorma  (None, None, None,   2912       ['block5_sepconv3[0][0]']        \n",
            " lization)                      728)                                                              \n",
            "                                                                                                  \n",
            " add_15 (Add)                   (None, None, None,   0           ['block5_sepconv3_bn[0][0]',     \n",
            "                                728)                              'add_14[0][0]']                 \n",
            "                                                                                                  \n",
            " block6_sepconv1_act (Activatio  (None, None, None,   0          ['add_15[0][0]']                 \n",
            " n)                             728)                                                              \n",
            "                                                                                                  \n",
            " block6_sepconv1 (SeparableConv  (None, None, None,   536536     ['block6_sepconv1_act[0][0]']    \n",
            " 2D)                            728)                                                              \n",
            "                                                                                                  \n",
            " block6_sepconv1_bn (BatchNorma  (None, None, None,   2912       ['block6_sepconv1[0][0]']        \n",
            " lization)                      728)                                                              \n",
            "                                                                                                  \n",
            " block6_sepconv2_act (Activatio  (None, None, None,   0          ['block6_sepconv1_bn[0][0]']     \n",
            " n)                             728)                                                              \n",
            "                                                                                                  \n",
            " block6_sepconv2 (SeparableConv  (None, None, None,   536536     ['block6_sepconv2_act[0][0]']    \n",
            " 2D)                            728)                                                              \n",
            "                                                                                                  \n",
            " block6_sepconv2_bn (BatchNorma  (None, None, None,   2912       ['block6_sepconv2[0][0]']        \n",
            " lization)                      728)                                                              \n",
            "                                                                                                  \n",
            " block6_sepconv3_act (Activatio  (None, None, None,   0          ['block6_sepconv2_bn[0][0]']     \n",
            " n)                             728)                                                              \n",
            "                                                                                                  \n",
            " block6_sepconv3 (SeparableConv  (None, None, None,   536536     ['block6_sepconv3_act[0][0]']    \n",
            " 2D)                            728)                                                              \n",
            "                                                                                                  \n",
            " block6_sepconv3_bn (BatchNorma  (None, None, None,   2912       ['block6_sepconv3[0][0]']        \n",
            " lization)                      728)                                                              \n",
            "                                                                                                  \n",
            " add_16 (Add)                   (None, None, None,   0           ['block6_sepconv3_bn[0][0]',     \n",
            "                                728)                              'add_15[0][0]']                 \n",
            "                                                                                                  \n",
            " block7_sepconv1_act (Activatio  (None, None, None,   0          ['add_16[0][0]']                 \n",
            " n)                             728)                                                              \n",
            "                                                                                                  \n",
            " block7_sepconv1 (SeparableConv  (None, None, None,   536536     ['block7_sepconv1_act[0][0]']    \n",
            " 2D)                            728)                                                              \n",
            "                                                                                                  \n",
            " block7_sepconv1_bn (BatchNorma  (None, None, None,   2912       ['block7_sepconv1[0][0]']        \n",
            " lization)                      728)                                                              \n",
            "                                                                                                  \n",
            " block7_sepconv2_act (Activatio  (None, None, None,   0          ['block7_sepconv1_bn[0][0]']     \n",
            " n)                             728)                                                              \n",
            "                                                                                                  \n",
            " block7_sepconv2 (SeparableConv  (None, None, None,   536536     ['block7_sepconv2_act[0][0]']    \n",
            " 2D)                            728)                                                              \n",
            "                                                                                                  \n",
            " block7_sepconv2_bn (BatchNorma  (None, None, None,   2912       ['block7_sepconv2[0][0]']        \n",
            " lization)                      728)                                                              \n",
            "                                                                                                  \n",
            " block7_sepconv3_act (Activatio  (None, None, None,   0          ['block7_sepconv2_bn[0][0]']     \n",
            " n)                             728)                                                              \n",
            "                                                                                                  \n",
            " block7_sepconv3 (SeparableConv  (None, None, None,   536536     ['block7_sepconv3_act[0][0]']    \n",
            " 2D)                            728)                                                              \n",
            "                                                                                                  \n",
            " block7_sepconv3_bn (BatchNorma  (None, None, None,   2912       ['block7_sepconv3[0][0]']        \n",
            " lization)                      728)                                                              \n",
            "                                                                                                  \n",
            " add_17 (Add)                   (None, None, None,   0           ['block7_sepconv3_bn[0][0]',     \n",
            "                                728)                              'add_16[0][0]']                 \n",
            "                                                                                                  \n",
            " block8_sepconv1_act (Activatio  (None, None, None,   0          ['add_17[0][0]']                 \n",
            " n)                             728)                                                              \n",
            "                                                                                                  \n",
            " block8_sepconv1 (SeparableConv  (None, None, None,   536536     ['block8_sepconv1_act[0][0]']    \n",
            " 2D)                            728)                                                              \n",
            "                                                                                                  \n",
            " block8_sepconv1_bn (BatchNorma  (None, None, None,   2912       ['block8_sepconv1[0][0]']        \n",
            " lization)                      728)                                                              \n",
            "                                                                                                  \n",
            " block8_sepconv2_act (Activatio  (None, None, None,   0          ['block8_sepconv1_bn[0][0]']     \n",
            " n)                             728)                                                              \n",
            "                                                                                                  \n",
            " block8_sepconv2 (SeparableConv  (None, None, None,   536536     ['block8_sepconv2_act[0][0]']    \n",
            " 2D)                            728)                                                              \n",
            "                                                                                                  \n",
            " block8_sepconv2_bn (BatchNorma  (None, None, None,   2912       ['block8_sepconv2[0][0]']        \n",
            " lization)                      728)                                                              \n",
            "                                                                                                  \n",
            " block8_sepconv3_act (Activatio  (None, None, None,   0          ['block8_sepconv2_bn[0][0]']     \n",
            " n)                             728)                                                              \n",
            "                                                                                                  \n",
            " block8_sepconv3 (SeparableConv  (None, None, None,   536536     ['block8_sepconv3_act[0][0]']    \n",
            " 2D)                            728)                                                              \n",
            "                                                                                                  \n",
            " block8_sepconv3_bn (BatchNorma  (None, None, None,   2912       ['block8_sepconv3[0][0]']        \n",
            " lization)                      728)                                                              \n",
            "                                                                                                  \n",
            " add_18 (Add)                   (None, None, None,   0           ['block8_sepconv3_bn[0][0]',     \n",
            "                                728)                              'add_17[0][0]']                 \n",
            "                                                                                                  \n",
            " block9_sepconv1_act (Activatio  (None, None, None,   0          ['add_18[0][0]']                 \n",
            " n)                             728)                                                              \n",
            "                                                                                                  \n",
            " block9_sepconv1 (SeparableConv  (None, None, None,   536536     ['block9_sepconv1_act[0][0]']    \n",
            " 2D)                            728)                                                              \n",
            "                                                                                                  \n",
            " block9_sepconv1_bn (BatchNorma  (None, None, None,   2912       ['block9_sepconv1[0][0]']        \n",
            " lization)                      728)                                                              \n",
            "                                                                                                  \n",
            " block9_sepconv2_act (Activatio  (None, None, None,   0          ['block9_sepconv1_bn[0][0]']     \n",
            " n)                             728)                                                              \n",
            "                                                                                                  \n",
            " block9_sepconv2 (SeparableConv  (None, None, None,   536536     ['block9_sepconv2_act[0][0]']    \n",
            " 2D)                            728)                                                              \n",
            "                                                                                                  \n",
            " block9_sepconv2_bn (BatchNorma  (None, None, None,   2912       ['block9_sepconv2[0][0]']        \n",
            " lization)                      728)                                                              \n",
            "                                                                                                  \n",
            " block9_sepconv3_act (Activatio  (None, None, None,   0          ['block9_sepconv2_bn[0][0]']     \n",
            " n)                             728)                                                              \n",
            "                                                                                                  \n",
            " block9_sepconv3 (SeparableConv  (None, None, None,   536536     ['block9_sepconv3_act[0][0]']    \n",
            " 2D)                            728)                                                              \n",
            "                                                                                                  \n",
            " block9_sepconv3_bn (BatchNorma  (None, None, None,   2912       ['block9_sepconv3[0][0]']        \n",
            " lization)                      728)                                                              \n",
            "                                                                                                  \n",
            " add_19 (Add)                   (None, None, None,   0           ['block9_sepconv3_bn[0][0]',     \n",
            "                                728)                              'add_18[0][0]']                 \n",
            "                                                                                                  \n",
            " block10_sepconv1_act (Activati  (None, None, None,   0          ['add_19[0][0]']                 \n",
            " on)                            728)                                                              \n",
            "                                                                                                  \n",
            " block10_sepconv1 (SeparableCon  (None, None, None,   536536     ['block10_sepconv1_act[0][0]']   \n",
            " v2D)                           728)                                                              \n",
            "                                                                                                  \n",
            " block10_sepconv1_bn (BatchNorm  (None, None, None,   2912       ['block10_sepconv1[0][0]']       \n",
            " alization)                     728)                                                              \n",
            "                                                                                                  \n",
            " block10_sepconv2_act (Activati  (None, None, None,   0          ['block10_sepconv1_bn[0][0]']    \n",
            " on)                            728)                                                              \n",
            "                                                                                                  \n",
            " block10_sepconv2 (SeparableCon  (None, None, None,   536536     ['block10_sepconv2_act[0][0]']   \n",
            " v2D)                           728)                                                              \n",
            "                                                                                                  \n",
            " block10_sepconv2_bn (BatchNorm  (None, None, None,   2912       ['block10_sepconv2[0][0]']       \n",
            " alization)                     728)                                                              \n",
            "                                                                                                  \n",
            " block10_sepconv3_act (Activati  (None, None, None,   0          ['block10_sepconv2_bn[0][0]']    \n",
            " on)                            728)                                                              \n",
            "                                                                                                  \n",
            " block10_sepconv3 (SeparableCon  (None, None, None,   536536     ['block10_sepconv3_act[0][0]']   \n",
            " v2D)                           728)                                                              \n",
            "                                                                                                  \n",
            " block10_sepconv3_bn (BatchNorm  (None, None, None,   2912       ['block10_sepconv3[0][0]']       \n",
            " alization)                     728)                                                              \n",
            "                                                                                                  \n",
            " add_20 (Add)                   (None, None, None,   0           ['block10_sepconv3_bn[0][0]',    \n",
            "                                728)                              'add_19[0][0]']                 \n",
            "                                                                                                  \n",
            " block11_sepconv1_act (Activati  (None, None, None,   0          ['add_20[0][0]']                 \n",
            " on)                            728)                                                              \n",
            "                                                                                                  \n",
            " block11_sepconv1 (SeparableCon  (None, None, None,   536536     ['block11_sepconv1_act[0][0]']   \n",
            " v2D)                           728)                                                              \n",
            "                                                                                                  \n",
            " block11_sepconv1_bn (BatchNorm  (None, None, None,   2912       ['block11_sepconv1[0][0]']       \n",
            " alization)                     728)                                                              \n",
            "                                                                                                  \n",
            " block11_sepconv2_act (Activati  (None, None, None,   0          ['block11_sepconv1_bn[0][0]']    \n",
            " on)                            728)                                                              \n",
            "                                                                                                  \n",
            " block11_sepconv2 (SeparableCon  (None, None, None,   536536     ['block11_sepconv2_act[0][0]']   \n",
            " v2D)                           728)                                                              \n",
            "                                                                                                  \n",
            " block11_sepconv2_bn (BatchNorm  (None, None, None,   2912       ['block11_sepconv2[0][0]']       \n",
            " alization)                     728)                                                              \n",
            "                                                                                                  \n",
            " block11_sepconv3_act (Activati  (None, None, None,   0          ['block11_sepconv2_bn[0][0]']    \n",
            " on)                            728)                                                              \n",
            "                                                                                                  \n",
            " block11_sepconv3 (SeparableCon  (None, None, None,   536536     ['block11_sepconv3_act[0][0]']   \n",
            " v2D)                           728)                                                              \n",
            "                                                                                                  \n",
            " block11_sepconv3_bn (BatchNorm  (None, None, None,   2912       ['block11_sepconv3[0][0]']       \n",
            " alization)                     728)                                                              \n",
            "                                                                                                  \n",
            " add_21 (Add)                   (None, None, None,   0           ['block11_sepconv3_bn[0][0]',    \n",
            "                                728)                              'add_20[0][0]']                 \n",
            "                                                                                                  \n",
            " block12_sepconv1_act (Activati  (None, None, None,   0          ['add_21[0][0]']                 \n",
            " on)                            728)                                                              \n",
            "                                                                                                  \n",
            " block12_sepconv1 (SeparableCon  (None, None, None,   536536     ['block12_sepconv1_act[0][0]']   \n",
            " v2D)                           728)                                                              \n",
            "                                                                                                  \n",
            " block12_sepconv1_bn (BatchNorm  (None, None, None,   2912       ['block12_sepconv1[0][0]']       \n",
            " alization)                     728)                                                              \n",
            "                                                                                                  \n",
            " block12_sepconv2_act (Activati  (None, None, None,   0          ['block12_sepconv1_bn[0][0]']    \n",
            " on)                            728)                                                              \n",
            "                                                                                                  \n",
            " block12_sepconv2 (SeparableCon  (None, None, None,   536536     ['block12_sepconv2_act[0][0]']   \n",
            " v2D)                           728)                                                              \n",
            "                                                                                                  \n",
            " block12_sepconv2_bn (BatchNorm  (None, None, None,   2912       ['block12_sepconv2[0][0]']       \n",
            " alization)                     728)                                                              \n",
            "                                                                                                  \n",
            " block12_sepconv3_act (Activati  (None, None, None,   0          ['block12_sepconv2_bn[0][0]']    \n",
            " on)                            728)                                                              \n",
            "                                                                                                  \n",
            " block12_sepconv3 (SeparableCon  (None, None, None,   536536     ['block12_sepconv3_act[0][0]']   \n",
            " v2D)                           728)                                                              \n",
            "                                                                                                  \n",
            " block12_sepconv3_bn (BatchNorm  (None, None, None,   2912       ['block12_sepconv3[0][0]']       \n",
            " alization)                     728)                                                              \n",
            "                                                                                                  \n",
            " add_22 (Add)                   (None, None, None,   0           ['block12_sepconv3_bn[0][0]',    \n",
            "                                728)                              'add_21[0][0]']                 \n",
            "                                                                                                  \n",
            " block13_sepconv1_act (Activati  (None, None, None,   0          ['add_22[0][0]']                 \n",
            " on)                            728)                                                              \n",
            "                                                                                                  \n",
            " block13_sepconv1 (SeparableCon  (None, None, None,   536536     ['block13_sepconv1_act[0][0]']   \n",
            " v2D)                           728)                                                              \n",
            "                                                                                                  \n",
            " block13_sepconv1_bn (BatchNorm  (None, None, None,   2912       ['block13_sepconv1[0][0]']       \n",
            " alization)                     728)                                                              \n",
            "                                                                                                  \n",
            " block13_sepconv2_act (Activati  (None, None, None,   0          ['block13_sepconv1_bn[0][0]']    \n",
            " on)                            728)                                                              \n",
            "                                                                                                  \n",
            " block13_sepconv2 (SeparableCon  (None, None, None,   752024     ['block13_sepconv2_act[0][0]']   \n",
            " v2D)                           1024)                                                             \n",
            "                                                                                                  \n",
            " block13_sepconv2_bn (BatchNorm  (None, None, None,   4096       ['block13_sepconv2[0][0]']       \n",
            " alization)                     1024)                                                             \n",
            "                                                                                                  \n",
            " conv2d_7 (Conv2D)              (None, None, None,   745472      ['add_22[0][0]']                 \n",
            "                                1024)                                                             \n",
            "                                                                                                  \n",
            " block13_pool (MaxPooling2D)    (None, None, None,   0           ['block13_sepconv2_bn[0][0]']    \n",
            "                                1024)                                                             \n",
            "                                                                                                  \n",
            " batch_normalization_7 (BatchNo  (None, None, None,   4096       ['conv2d_7[0][0]']               \n",
            " rmalization)                   1024)                                                             \n",
            "                                                                                                  \n",
            " add_23 (Add)                   (None, None, None,   0           ['block13_pool[0][0]',           \n",
            "                                1024)                             'batch_normalization_7[0][0]']  \n",
            "                                                                                                  \n",
            " block14_sepconv1 (SeparableCon  (None, None, None,   1582080    ['add_23[0][0]']                 \n",
            " v2D)                           1536)                                                             \n",
            "                                                                                                  \n",
            " block14_sepconv1_bn (BatchNorm  (None, None, None,   6144       ['block14_sepconv1[0][0]']       \n",
            " alization)                     1536)                                                             \n",
            "                                                                                                  \n",
            " block14_sepconv1_act (Activati  (None, None, None,   0          ['block14_sepconv1_bn[0][0]']    \n",
            " on)                            1536)                                                             \n",
            "                                                                                                  \n",
            " block14_sepconv2 (SeparableCon  (None, None, None,   3159552    ['block14_sepconv1_act[0][0]']   \n",
            " v2D)                           2048)                                                             \n",
            "                                                                                                  \n",
            " block14_sepconv2_bn (BatchNorm  (None, None, None,   8192       ['block14_sepconv2[0][0]']       \n",
            " alization)                     2048)                                                             \n",
            "                                                                                                  \n",
            " block14_sepconv2_act (Activati  (None, None, None,   0          ['block14_sepconv2_bn[0][0]']    \n",
            " on)                            2048)                                                             \n",
            "                                                                                                  \n",
            " global_average_pooling2d (Glob  (None, 2048)        0           ['block14_sepconv2_act[0][0]']   \n",
            " alAveragePooling2D)                                                                              \n",
            "                                                                                                  \n",
            " dense (Dense)                  (None, 5)            10245       ['global_average_pooling2d[0][0]'\n",
            "                                                                 ]                                \n",
            "                                                                                                  \n",
            "==================================================================================================\n",
            "Total params: 20,871,725\n",
            "Trainable params: 20,817,197\n",
            "Non-trainable params: 54,528\n",
            "__________________________________________________________________________________________________\n"
          ]
        }
      ]
    },
    {
      "cell_type": "code",
      "source": [
        "model_FineTune.layers"
      ],
      "metadata": {
        "id": "oE9nKkIV-8cA",
        "outputId": "bef38255-acf5-442f-a115-7e3e3c1b969e",
        "colab": {
          "base_uri": "https://localhost:8080/"
        }
      },
      "execution_count": 7,
      "outputs": [
        {
          "output_type": "execute_result",
          "data": {
            "text/plain": [
              "[<keras.engine.input_layer.InputLayer at 0x7fb1a4f0f7c0>,\n",
              " <keras.layers.convolutional.conv2d.Conv2D at 0x7fb1a4f0f2e0>,\n",
              " <keras.layers.normalization.batch_normalization.BatchNormalization at 0x7fb1a4f0f8b0>,\n",
              " <keras.layers.core.activation.Activation at 0x7fb140916730>,\n",
              " <keras.layers.convolutional.conv2d.Conv2D at 0x7fb1a4f0f9a0>,\n",
              " <keras.layers.normalization.batch_normalization.BatchNormalization at 0x7fb140916d30>,\n",
              " <keras.layers.core.activation.Activation at 0x7fb140916b20>,\n",
              " <keras.layers.convolutional.separable_conv2d.SeparableConv2D at 0x7fb140916bb0>,\n",
              " <keras.layers.normalization.batch_normalization.BatchNormalization at 0x7fb140048eb0>,\n",
              " <keras.layers.core.activation.Activation at 0x7fb140048df0>,\n",
              " <keras.layers.convolutional.separable_conv2d.SeparableConv2D at 0x7fb140048f70>,\n",
              " <keras.layers.normalization.batch_normalization.BatchNormalization at 0x7fb14004bbe0>,\n",
              " <keras.layers.convolutional.conv2d.Conv2D at 0x7fb14004bca0>,\n",
              " <keras.layers.pooling.max_pooling2d.MaxPooling2D at 0x7fb14004b3a0>,\n",
              " <keras.layers.normalization.batch_normalization.BatchNormalization at 0x7fb1400507c0>,\n",
              " <keras.layers.merging.add.Add at 0x7fb1400508b0>,\n",
              " <keras.layers.core.activation.Activation at 0x7fb140050d30>,\n",
              " <keras.layers.convolutional.separable_conv2d.SeparableConv2D at 0x7fb140050d90>,\n",
              " <keras.layers.normalization.batch_normalization.BatchNormalization at 0x7fb1400566d0>,\n",
              " <keras.layers.core.activation.Activation at 0x7fb140056610>,\n",
              " <keras.layers.convolutional.separable_conv2d.SeparableConv2D at 0x7fb140056c10>,\n",
              " <keras.layers.normalization.batch_normalization.BatchNormalization at 0x7fb140056790>,\n",
              " <keras.layers.convolutional.conv2d.Conv2D at 0x7fb14005a4c0>,\n",
              " <keras.layers.pooling.max_pooling2d.MaxPooling2D at 0x7fb14005a910>,\n",
              " <keras.layers.normalization.batch_normalization.BatchNormalization at 0x7fb14005afa0>,\n",
              " <keras.layers.merging.add.Add at 0x7fb14005af70>,\n",
              " <keras.layers.core.activation.Activation at 0x7fb14005e550>,\n",
              " <keras.layers.convolutional.separable_conv2d.SeparableConv2D at 0x7fb14005e5b0>,\n",
              " <keras.layers.normalization.batch_normalization.BatchNormalization at 0x7fb14005eeb0>,\n",
              " <keras.layers.core.activation.Activation at 0x7fb14005edf0>,\n",
              " <keras.layers.convolutional.separable_conv2d.SeparableConv2D at 0x7fb14005ef70>,\n",
              " <keras.layers.normalization.batch_normalization.BatchNormalization at 0x7fb140061be0>,\n",
              " <keras.layers.convolutional.conv2d.Conv2D at 0x7fb140061ca0>,\n",
              " <keras.layers.pooling.max_pooling2d.MaxPooling2D at 0x7fb1400613a0>,\n",
              " <keras.layers.normalization.batch_normalization.BatchNormalization at 0x7fb1400687c0>,\n",
              " <keras.layers.merging.add.Add at 0x7fb1400688b0>,\n",
              " <keras.layers.core.activation.Activation at 0x7fb140068d30>,\n",
              " <keras.layers.convolutional.separable_conv2d.SeparableConv2D at 0x7fb140068d90>,\n",
              " <keras.layers.normalization.batch_normalization.BatchNormalization at 0x7fb14006c6d0>,\n",
              " <keras.layers.core.activation.Activation at 0x7fb14006c610>,\n",
              " <keras.layers.convolutional.separable_conv2d.SeparableConv2D at 0x7fb14006cc10>,\n",
              " <keras.layers.normalization.batch_normalization.BatchNormalization at 0x7fb14006c790>,\n",
              " <keras.layers.core.activation.Activation at 0x7fb140073340>,\n",
              " <keras.layers.convolutional.separable_conv2d.SeparableConv2D at 0x7fb140073940>,\n",
              " <keras.layers.normalization.batch_normalization.BatchNormalization at 0x7fb1400734c0>,\n",
              " <keras.layers.merging.add.Add at 0x7fb13fff81f0>,\n",
              " <keras.layers.core.activation.Activation at 0x7fb13fff8670>,\n",
              " <keras.layers.convolutional.separable_conv2d.SeparableConv2D at 0x7fb13fff86d0>,\n",
              " <keras.layers.normalization.batch_normalization.BatchNormalization at 0x7fb13fff8fa0>,\n",
              " <keras.layers.core.activation.Activation at 0x7fb13fff85e0>,\n",
              " <keras.layers.convolutional.separable_conv2d.SeparableConv2D at 0x7fb13fff8f10>,\n",
              " <keras.layers.normalization.batch_normalization.BatchNormalization at 0x7fb13fffdd00>,\n",
              " <keras.layers.core.activation.Activation at 0x7fb13fffdc40>,\n",
              " <keras.layers.convolutional.separable_conv2d.SeparableConv2D at 0x7fb13fffddc0>,\n",
              " <keras.layers.normalization.batch_normalization.BatchNormalization at 0x7fb140002a30>,\n",
              " <keras.layers.merging.add.Add at 0x7fb140002af0>,\n",
              " <keras.layers.core.activation.Activation at 0x7fb140002f70>,\n",
              " <keras.layers.convolutional.separable_conv2d.SeparableConv2D at 0x7fb140002ee0>,\n",
              " <keras.layers.normalization.batch_normalization.BatchNormalization at 0x7fb140006910>,\n",
              " <keras.layers.core.activation.Activation at 0x7fb140006850>,\n",
              " <keras.layers.convolutional.separable_conv2d.SeparableConv2D at 0x7fb140006e50>,\n",
              " <keras.layers.normalization.batch_normalization.BatchNormalization at 0x7fb14000b670>,\n",
              " <keras.layers.core.activation.Activation at 0x7fb14000b5b0>,\n",
              " <keras.layers.convolutional.separable_conv2d.SeparableConv2D at 0x7fb14000bbb0>,\n",
              " <keras.layers.normalization.batch_normalization.BatchNormalization at 0x7fb14000b730>,\n",
              " <keras.layers.merging.add.Add at 0x7fb140011460>,\n",
              " <keras.layers.core.activation.Activation at 0x7fb1400118e0>,\n",
              " <keras.layers.convolutional.separable_conv2d.SeparableConv2D at 0x7fb140011940>,\n",
              " <keras.layers.normalization.batch_normalization.BatchNormalization at 0x7fb140011850>,\n",
              " <keras.layers.core.activation.Activation at 0x7fb1400161c0>,\n",
              " <keras.layers.convolutional.separable_conv2d.SeparableConv2D at 0x7fb1400167c0>,\n",
              " <keras.layers.normalization.batch_normalization.BatchNormalization at 0x7fb140016f70>,\n",
              " <keras.layers.core.activation.Activation at 0x7fb140016340>,\n",
              " <keras.layers.convolutional.separable_conv2d.SeparableConv2D at 0x7fb140016eb0>,\n",
              " <keras.layers.normalization.batch_normalization.BatchNormalization at 0x7fb14001bca0>,\n",
              " <keras.layers.merging.add.Add at 0x7fb14001bd60>,\n",
              " <keras.layers.core.activation.Activation at 0x7fb140021220>,\n",
              " <keras.layers.convolutional.separable_conv2d.SeparableConv2D at 0x7fb140021280>,\n",
              " <keras.layers.normalization.batch_normalization.BatchNormalization at 0x7fb140021b80>,\n",
              " <keras.layers.core.activation.Activation at 0x7fb140021ac0>,\n",
              " <keras.layers.convolutional.separable_conv2d.SeparableConv2D at 0x7fb140021c40>,\n",
              " <keras.layers.normalization.batch_normalization.BatchNormalization at 0x7fb1400268b0>,\n",
              " <keras.layers.core.activation.Activation at 0x7fb1400267f0>,\n",
              " <keras.layers.convolutional.separable_conv2d.SeparableConv2D at 0x7fb140026df0>,\n",
              " <keras.layers.normalization.batch_normalization.BatchNormalization at 0x7fb14002a5e0>,\n",
              " <keras.layers.merging.add.Add at 0x7fb14002a6a0>,\n",
              " <keras.layers.core.activation.Activation at 0x7fb14002ab20>,\n",
              " <keras.layers.convolutional.separable_conv2d.SeparableConv2D at 0x7fb14002ab80>,\n",
              " <keras.layers.normalization.batch_normalization.BatchNormalization at 0x7fb14002e4c0>,\n",
              " <keras.layers.core.activation.Activation at 0x7fb14002e400>,\n",
              " <keras.layers.convolutional.separable_conv2d.SeparableConv2D at 0x7fb14002ea00>,\n",
              " <keras.layers.normalization.batch_normalization.BatchNormalization at 0x7fb14002e580>,\n",
              " <keras.layers.core.activation.Activation at 0x7fb140033130>,\n",
              " <keras.layers.convolutional.separable_conv2d.SeparableConv2D at 0x7fb140033730>,\n",
              " <keras.layers.normalization.batch_normalization.BatchNormalization at 0x7fb140033ee0>,\n",
              " <keras.layers.merging.add.Add at 0x7fb140033fa0>,\n",
              " <keras.layers.core.activation.Activation at 0x7fb13ffb8460>,\n",
              " <keras.layers.convolutional.separable_conv2d.SeparableConv2D at 0x7fb13ffb84c0>,\n",
              " <keras.layers.normalization.batch_normalization.BatchNormalization at 0x7fb13ffb8dc0>,\n",
              " <keras.layers.core.activation.Activation at 0x7fb13ffb8d00>,\n",
              " <keras.layers.convolutional.separable_conv2d.SeparableConv2D at 0x7fb13ffb8e80>,\n",
              " <keras.layers.normalization.batch_normalization.BatchNormalization at 0x7fb13ffbcaf0>,\n",
              " <keras.layers.core.activation.Activation at 0x7fb13ffbca30>,\n",
              " <keras.layers.convolutional.separable_conv2d.SeparableConv2D at 0x7fb13ffbcfa0>,\n",
              " <keras.layers.normalization.batch_normalization.BatchNormalization at 0x7fb13ffc1820>,\n",
              " <keras.layers.merging.add.Add at 0x7fb13ffc18e0>,\n",
              " <keras.layers.core.activation.Activation at 0x7fb13ffc1d60>,\n",
              " <keras.layers.convolutional.separable_conv2d.SeparableConv2D at 0x7fb13ffc1dc0>,\n",
              " <keras.layers.normalization.batch_normalization.BatchNormalization at 0x7fb13ffc7700>,\n",
              " <keras.layers.core.activation.Activation at 0x7fb13ffc7640>,\n",
              " <keras.layers.convolutional.separable_conv2d.SeparableConv2D at 0x7fb13ffc7c40>,\n",
              " <keras.layers.normalization.batch_normalization.BatchNormalization at 0x7fb13ffc77c0>,\n",
              " <keras.layers.core.activation.Activation at 0x7fb13ffcd370>,\n",
              " <keras.layers.convolutional.separable_conv2d.SeparableConv2D at 0x7fb13ffcd970>,\n",
              " <keras.layers.normalization.batch_normalization.BatchNormalization at 0x7fb13ffcd4f0>,\n",
              " <keras.layers.merging.add.Add at 0x7fb13ffd3220>,\n",
              " <keras.layers.core.activation.Activation at 0x7fb13ffd36a0>,\n",
              " <keras.layers.convolutional.separable_conv2d.SeparableConv2D at 0x7fb13ffd3700>,\n",
              " <keras.layers.normalization.batch_normalization.BatchNormalization at 0x7fb13ffd3fd0>,\n",
              " <keras.layers.core.activation.Activation at 0x7fb13ffd3610>,\n",
              " <keras.layers.convolutional.separable_conv2d.SeparableConv2D at 0x7fb13ffd3f40>,\n",
              " <keras.layers.normalization.batch_normalization.BatchNormalization at 0x7fb13ffd7d30>,\n",
              " <keras.layers.convolutional.conv2d.Conv2D at 0x7fb13ffd7df0>,\n",
              " <keras.layers.pooling.max_pooling2d.MaxPooling2D at 0x7fb13ffd74f0>,\n",
              " <keras.layers.normalization.batch_normalization.BatchNormalization at 0x7fb13ffdd910>,\n",
              " <keras.layers.merging.add.Add at 0x7fb13ffdda00>,\n",
              " <keras.layers.convolutional.separable_conv2d.SeparableConv2D at 0x7fb13ffdddf0>,\n",
              " <keras.layers.normalization.batch_normalization.BatchNormalization at 0x7fb13ffe0670>,\n",
              " <keras.layers.core.activation.Activation at 0x7fb13ffe05b0>,\n",
              " <keras.layers.convolutional.separable_conv2d.SeparableConv2D at 0x7fb13ffe0bb0>,\n",
              " <keras.layers.normalization.batch_normalization.BatchNormalization at 0x7fb13ffe0730>,\n",
              " <keras.layers.core.activation.Activation at 0x7fb13ffe52e0>,\n",
              " <keras.layers.pooling.global_average_pooling2d.GlobalAveragePooling2D at 0x7fb13ffe5850>,\n",
              " <keras.layers.core.dense.Dense at 0x7fb13ffe5b20>]"
            ]
          },
          "metadata": {},
          "execution_count": 7
        }
      ]
    },
    {
      "cell_type": "code",
      "source": [
        "len(model_FineTune.layers)"
      ],
      "metadata": {
        "id": "y4626IaH_eU3",
        "outputId": "b1f4905e-500f-44c4-f850-b5f292e9961a",
        "colab": {
          "base_uri": "https://localhost:8080/"
        }
      },
      "execution_count": 8,
      "outputs": [
        {
          "output_type": "execute_result",
          "data": {
            "text/plain": [
              "134"
            ]
          },
          "metadata": {},
          "execution_count": 8
        }
      ]
    },
    {
      "cell_type": "markdown",
      "metadata": {
        "id": "DHcuJyEDWXNe"
      },
      "source": [
        "## Freeze only first 60 layers\n",
        "- It is a `hyperparameter`"
      ]
    },
    {
      "cell_type": "code",
      "source": [
        "# Fine-tune the model from index 60 onwards\n",
        "\n",
        "for layer in model_FineTune.layers[:60]:\n",
        "  layer.trainable = False\n",
        "\n",
        "for layer in model_FineTune.layers[60:]:\n",
        "  layer.trainable = True\n"
      ],
      "metadata": {
        "id": "EEzqJAlxu8vm"
      },
      "execution_count": 9,
      "outputs": []
    },
    {
      "cell_type": "markdown",
      "source": [
        "#Compile and train the model\n",
        "\n",
        "\n",
        "*  Save the best weights while training\n",
        "\n",
        "\n"
      ],
      "metadata": {
        "id": "LQP-f3nHvWnK"
      }
    },
    {
      "cell_type": "code",
      "source": [
        "model_FineTune.compile(loss='sparse_categorical_crossentropy', \n",
        "                 optimizer='adam', \n",
        "                 metrics=['accuracy'])\n",
        "\n",
        "callbacks_FineTune = [            \n",
        "             keras.callbacks.ModelCheckpoint(\"bestFT.h5\",\n",
        "                                             monitor='val_accuracy',\n",
        "                                             save_weights_only=True,\n",
        "                                             save_best_only=True)\n",
        "]\n",
        "\n",
        "history_FineTune = model_FineTune.fit(x = X_train_std, y = y_train, epochs=50,\n",
        "                                      validation_split=0.1, batch_size=16, callbacks=callbacks_FineTune)"
      ],
      "metadata": {
        "id": "XKKmg1UJvP_n",
        "outputId": "191e86da-1058-4739-8211-3ea698028a5e",
        "colab": {
          "base_uri": "https://localhost:8080/"
        }
      },
      "execution_count": 10,
      "outputs": [
        {
          "output_type": "stream",
          "name": "stdout",
          "text": [
            "Epoch 1/50\n",
            "23/23 [==============================] - 20s 330ms/step - loss: 0.0394 - accuracy: 0.9917 - val_loss: 0.5394 - val_accuracy: 0.8750\n",
            "Epoch 2/50\n",
            "23/23 [==============================] - 6s 253ms/step - loss: 0.0258 - accuracy: 0.9917 - val_loss: 1.9642 - val_accuracy: 0.8000\n",
            "Epoch 3/50\n",
            "23/23 [==============================] - 6s 254ms/step - loss: 0.0307 - accuracy: 0.9889 - val_loss: 1.5794 - val_accuracy: 0.8000\n",
            "Epoch 4/50\n",
            "23/23 [==============================] - 6s 256ms/step - loss: 0.0559 - accuracy: 0.9861 - val_loss: 3.0786 - val_accuracy: 0.8000\n",
            "Epoch 5/50\n",
            "23/23 [==============================] - 6s 257ms/step - loss: 0.1716 - accuracy: 0.9667 - val_loss: 1.6765 - val_accuracy: 0.8500\n",
            "Epoch 6/50\n",
            "23/23 [==============================] - 6s 259ms/step - loss: 0.0479 - accuracy: 0.9917 - val_loss: 3.3427 - val_accuracy: 0.6500\n",
            "Epoch 7/50\n",
            "23/23 [==============================] - 6s 262ms/step - loss: 0.0476 - accuracy: 0.9889 - val_loss: 1.4338 - val_accuracy: 0.8000\n",
            "Epoch 8/50\n",
            "23/23 [==============================] - 6s 259ms/step - loss: 0.0123 - accuracy: 0.9972 - val_loss: 0.7605 - val_accuracy: 0.8750\n",
            "Epoch 9/50\n",
            "23/23 [==============================] - 6s 257ms/step - loss: 0.0220 - accuracy: 0.9944 - val_loss: 1.4660 - val_accuracy: 0.8500\n",
            "Epoch 10/50\n",
            "23/23 [==============================] - 6s 256ms/step - loss: 0.0776 - accuracy: 0.9833 - val_loss: 0.7930 - val_accuracy: 0.8250\n",
            "Epoch 11/50\n",
            "23/23 [==============================] - 6s 254ms/step - loss: 0.0480 - accuracy: 0.9861 - val_loss: 0.9515 - val_accuracy: 0.8500\n",
            "Epoch 12/50\n",
            "23/23 [==============================] - 6s 253ms/step - loss: 0.0179 - accuracy: 0.9944 - val_loss: 0.4729 - val_accuracy: 0.8750\n",
            "Epoch 13/50\n",
            "23/23 [==============================] - 6s 253ms/step - loss: 0.0269 - accuracy: 0.9944 - val_loss: 0.4392 - val_accuracy: 0.8500\n",
            "Epoch 14/50\n",
            "23/23 [==============================] - 6s 268ms/step - loss: 0.0606 - accuracy: 0.9861 - val_loss: 0.3247 - val_accuracy: 0.9000\n",
            "Epoch 15/50\n",
            "23/23 [==============================] - 6s 252ms/step - loss: 0.0205 - accuracy: 0.9889 - val_loss: 1.2328 - val_accuracy: 0.8000\n",
            "Epoch 16/50\n",
            "23/23 [==============================] - 6s 253ms/step - loss: 0.0476 - accuracy: 0.9833 - val_loss: 0.2699 - val_accuracy: 0.9000\n",
            "Epoch 17/50\n",
            "23/23 [==============================] - 6s 253ms/step - loss: 0.0060 - accuracy: 1.0000 - val_loss: 0.2895 - val_accuracy: 0.9000\n",
            "Epoch 18/50\n",
            "23/23 [==============================] - 6s 254ms/step - loss: 0.0331 - accuracy: 0.9889 - val_loss: 0.6180 - val_accuracy: 0.8750\n",
            "Epoch 19/50\n",
            "23/23 [==============================] - 6s 254ms/step - loss: 0.0165 - accuracy: 0.9972 - val_loss: 0.5120 - val_accuracy: 0.9000\n",
            "Epoch 20/50\n",
            "23/23 [==============================] - 6s 271ms/step - loss: 0.0049 - accuracy: 1.0000 - val_loss: 0.4276 - val_accuracy: 0.9250\n",
            "Epoch 21/50\n",
            "23/23 [==============================] - 6s 255ms/step - loss: 0.0026 - accuracy: 1.0000 - val_loss: 0.3652 - val_accuracy: 0.9250\n",
            "Epoch 22/50\n",
            "23/23 [==============================] - 6s 256ms/step - loss: 6.2260e-04 - accuracy: 1.0000 - val_loss: 0.3239 - val_accuracy: 0.9250\n",
            "Epoch 23/50\n",
            "23/23 [==============================] - 6s 255ms/step - loss: 0.0017 - accuracy: 1.0000 - val_loss: 0.2977 - val_accuracy: 0.9250\n",
            "Epoch 24/50\n",
            "23/23 [==============================] - 6s 256ms/step - loss: 0.0011 - accuracy: 1.0000 - val_loss: 0.3274 - val_accuracy: 0.9250\n",
            "Epoch 25/50\n",
            "23/23 [==============================] - 6s 255ms/step - loss: 5.8091e-04 - accuracy: 1.0000 - val_loss: 0.3286 - val_accuracy: 0.9250\n",
            "Epoch 26/50\n",
            "23/23 [==============================] - 6s 254ms/step - loss: 1.2410e-04 - accuracy: 1.0000 - val_loss: 0.3250 - val_accuracy: 0.9250\n",
            "Epoch 27/50\n",
            "23/23 [==============================] - 6s 255ms/step - loss: 8.9116e-05 - accuracy: 1.0000 - val_loss: 0.3220 - val_accuracy: 0.9250\n",
            "Epoch 28/50\n",
            "23/23 [==============================] - 6s 255ms/step - loss: 3.2419e-04 - accuracy: 1.0000 - val_loss: 0.3146 - val_accuracy: 0.9250\n",
            "Epoch 29/50\n",
            "23/23 [==============================] - 6s 254ms/step - loss: 5.1665e-04 - accuracy: 1.0000 - val_loss: 0.3428 - val_accuracy: 0.9250\n",
            "Epoch 30/50\n",
            "23/23 [==============================] - 6s 255ms/step - loss: 1.4232e-04 - accuracy: 1.0000 - val_loss: 0.3518 - val_accuracy: 0.9250\n",
            "Epoch 31/50\n",
            "23/23 [==============================] - 6s 254ms/step - loss: 9.5218e-05 - accuracy: 1.0000 - val_loss: 0.3490 - val_accuracy: 0.9250\n",
            "Epoch 32/50\n",
            "23/23 [==============================] - 6s 254ms/step - loss: 2.0155e-04 - accuracy: 1.0000 - val_loss: 0.3494 - val_accuracy: 0.9250\n",
            "Epoch 33/50\n",
            "23/23 [==============================] - 6s 255ms/step - loss: 2.5029e-04 - accuracy: 1.0000 - val_loss: 0.3552 - val_accuracy: 0.9250\n",
            "Epoch 34/50\n",
            "23/23 [==============================] - 6s 255ms/step - loss: 2.0149e-04 - accuracy: 1.0000 - val_loss: 0.3631 - val_accuracy: 0.9250\n",
            "Epoch 35/50\n",
            "23/23 [==============================] - 6s 255ms/step - loss: 0.0205 - accuracy: 0.9944 - val_loss: 0.2283 - val_accuracy: 0.9250\n",
            "Epoch 36/50\n",
            "23/23 [==============================] - 6s 255ms/step - loss: 0.0085 - accuracy: 0.9972 - val_loss: 0.5964 - val_accuracy: 0.9000\n",
            "Epoch 37/50\n",
            "23/23 [==============================] - 6s 255ms/step - loss: 0.0033 - accuracy: 1.0000 - val_loss: 0.4729 - val_accuracy: 0.9000\n",
            "Epoch 38/50\n",
            "23/23 [==============================] - 6s 255ms/step - loss: 0.0017 - accuracy: 1.0000 - val_loss: 0.4724 - val_accuracy: 0.9250\n",
            "Epoch 39/50\n",
            "23/23 [==============================] - 6s 255ms/step - loss: 4.8703e-04 - accuracy: 1.0000 - val_loss: 0.5197 - val_accuracy: 0.9250\n",
            "Epoch 40/50\n",
            "23/23 [==============================] - 6s 255ms/step - loss: 0.0013 - accuracy: 1.0000 - val_loss: 0.2936 - val_accuracy: 0.9250\n",
            "Epoch 41/50\n",
            "23/23 [==============================] - 6s 255ms/step - loss: 4.5791e-04 - accuracy: 1.0000 - val_loss: 0.3103 - val_accuracy: 0.9250\n",
            "Epoch 42/50\n",
            "23/23 [==============================] - 6s 256ms/step - loss: 3.2976e-04 - accuracy: 1.0000 - val_loss: 0.3187 - val_accuracy: 0.9250\n",
            "Epoch 43/50\n",
            "23/23 [==============================] - 6s 255ms/step - loss: 0.0447 - accuracy: 0.9944 - val_loss: 0.4111 - val_accuracy: 0.9250\n",
            "Epoch 44/50\n",
            "23/23 [==============================] - 6s 255ms/step - loss: 0.2132 - accuracy: 0.9583 - val_loss: 2.7824 - val_accuracy: 0.7500\n",
            "Epoch 45/50\n",
            "23/23 [==============================] - 6s 255ms/step - loss: 0.1479 - accuracy: 0.9750 - val_loss: 0.9091 - val_accuracy: 0.9000\n",
            "Epoch 46/50\n",
            "23/23 [==============================] - 6s 256ms/step - loss: 0.0567 - accuracy: 0.9944 - val_loss: 1.8684 - val_accuracy: 0.8500\n",
            "Epoch 47/50\n",
            "23/23 [==============================] - 6s 255ms/step - loss: 0.0565 - accuracy: 0.9861 - val_loss: 2.0358 - val_accuracy: 0.8500\n",
            "Epoch 48/50\n",
            "23/23 [==============================] - 6s 257ms/step - loss: 0.0340 - accuracy: 0.9972 - val_loss: 3.8611 - val_accuracy: 0.7000\n",
            "Epoch 49/50\n",
            "23/23 [==============================] - 6s 255ms/step - loss: 0.0277 - accuracy: 0.9889 - val_loss: 0.5136 - val_accuracy: 0.9250\n",
            "Epoch 50/50\n",
            "23/23 [==============================] - 6s 255ms/step - loss: 0.0056 - accuracy: 1.0000 - val_loss: 0.8999 - val_accuracy: 0.9250\n"
          ]
        }
      ]
    },
    {
      "cell_type": "markdown",
      "source": [
        "# Plot accuracy"
      ],
      "metadata": {
        "id": "pAw314Djvng8"
      }
    },
    {
      "cell_type": "code",
      "source": [
        "keys = ['accuracy', 'val_accuracy']\n",
        "progress = {k:v for k,v in history_FineTune.history.items() if k in keys}\n",
        "\n",
        "import pandas as pd\n",
        "pd.DataFrame(progress).plot()\n",
        "\n",
        "plt.xlabel(\"epochs\")\n",
        "plt.ylabel(\"accuracy\")\n",
        "\n",
        "plt.grid(True)\n",
        "plt.show()"
      ],
      "metadata": {
        "id": "Zt_tbGJCvTtY",
        "outputId": "accb3ee5-ec2b-4844-9371-bc9227c4e062",
        "colab": {
          "base_uri": "https://localhost:8080/",
          "height": 279
        }
      },
      "execution_count": 11,
      "outputs": [
        {
          "output_type": "display_data",
          "data": {
            "text/plain": [
              "<Figure size 432x288 with 1 Axes>"
            ],
            "image/png": "[encoded data removed]"
          },
          "metadata": {
            "needs_background": "light"
          }
        }
      ]
    },
    {
      "cell_type": "markdown",
      "source": [
        "## Evaluate the fine-tuned model\n",
        "- Trained for 50-epochs"
      ],
      "metadata": {
        "id": "PKl5hPdwvvVd"
      }
    },
    {
      "cell_type": "code",
      "source": [
        "testLoss_FineTune, testAccuracy_FineTune = model_FineTune.evaluate(x = X_test_std, y = y_test)\n",
        "print(\"Test-loss: %f, Test-accuracy: %f\" % (testLoss_FineTune, testAccuracy_FineTune))"
      ],
      "metadata": {
        "id": "YB3Qad3Svriw",
        "outputId": "ee914444-9c21-4d9a-baf1-285ffdc49456",
        "colab": {
          "base_uri": "https://localhost:8080/"
        }
      },
      "execution_count": 12,
      "outputs": [
        {
          "output_type": "stream",
          "name": "stdout",
          "text": [
            "4/4 [==============================] - 2s 279ms/step - loss: 0.7303 - accuracy: 0.8300\n",
            "Test-loss: 0.730337, Test-accuracy: 0.830000\n"
          ]
        }
      ]
    },
    {
      "cell_type": "markdown",
      "source": [
        "## Update the model with best weights and evaluate\n",
        "- Saved based on the callback"
      ],
      "metadata": {
        "id": "kX5C6ktRv4nh"
      }
    },
    {
      "cell_type": "code",
      "source": [
        "model_FineTune.load_weights(\"bestFT.h5\")\n",
        "\n",
        "testLoss_FineTune, testAccuracy_FineTune = model_FineTune.evaluate(x = X_test_std, y = y_test)\n",
        "\n",
        "print(\"Test-loss: %f, Test-accuracy: %f\" % (testLoss_FineTune, testAccuracy_FineTune))"
      ],
      "metadata": {
        "id": "pIPWjQDdv0Pz",
        "outputId": "ba1ddbe4-a240-4f0e-b19b-28e7a1765628",
        "colab": {
          "base_uri": "https://localhost:8080/"
        }
      },
      "execution_count": 13,
      "outputs": [
        {
          "output_type": "stream",
          "name": "stdout",
          "text": [
            "4/4 [==============================] - 1s 166ms/step - loss: 0.5743 - accuracy: 0.8700\n",
            "Test-loss: 0.574328, Test-accuracy: 0.870000\n"
          ]
        }
      ]
    },
    {
      "cell_type": "markdown",
      "source": [
        "#Get the prediction of a single sample"
      ],
      "metadata": {
        "id": "vymD_20ZwA1j"
      }
    },
    {
      "cell_type": "code",
      "source": [
        "cProba = model_FineTune.predict(X_test_std[:1])\n",
        "\n",
        "print(cProba)"
      ],
      "metadata": {
        "id": "_pwOtksTv76A",
        "outputId": "cfd70a71-44dd-418c-b954-05f6a705ff06",
        "colab": {
          "base_uri": "https://localhost:8080/"
        }
      },
      "execution_count": 14,
      "outputs": [
        {
          "output_type": "stream",
          "name": "stdout",
          "text": [
            "1/1 [==============================] - 1s 896ms/step\n",
            "[[5.0051435e-15 2.5345100e-15 1.0000000e+00 4.2416872e-16 1.1112653e-15]]\n"
          ]
        }
      ]
    },
    {
      "cell_type": "code",
      "source": [
        "cLabel = np.argmax(cProba, axis=-1) \n",
        "\n",
        "print(cLabel)"
      ],
      "metadata": {
        "id": "R0gdzlmdwDwP",
        "outputId": "659e6ebb-2733-400b-c906-51ba6c7b9095",
        "colab": {
          "base_uri": "https://localhost:8080/"
        }
      },
      "execution_count": 15,
      "outputs": [
        {
          "output_type": "stream",
          "name": "stdout",
          "text": [
            "[2]\n"
          ]
        }
      ]
    },
    {
      "cell_type": "code",
      "source": [
        "print(y_test[:1])"
      ],
      "metadata": {
        "id": "4h3GKIsqwIa7",
        "outputId": "7ad8e278-e36f-4fb5-95a2-67452fae5068",
        "colab": {
          "base_uri": "https://localhost:8080/"
        }
      },
      "execution_count": 16,
      "outputs": [
        {
          "output_type": "stream",
          "name": "stdout",
          "text": [
            "[2]\n"
          ]
        }
      ]
    },
    {
      "cell_type": "markdown",
      "source": [
        "#Save the final Fine-Tuned model"
      ],
      "metadata": {
        "id": "SUpUnGfBwKuK"
      }
    },
    {
      "cell_type": "code",
      "source": [
        "# Saves the best model obtained\n",
        "model_FineTune.save('/content/drive/MyDrive/Models/02_Xception_FineTuned_Best_Model.h5')"
      ],
      "metadata": {
        "id": "NUxMGE-_wMCc"
      },
      "execution_count": 17,
      "outputs": []
    }
  ]
}