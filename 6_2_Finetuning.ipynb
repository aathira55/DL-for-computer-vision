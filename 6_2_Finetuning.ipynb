{
  "nbformat": 4,
  "nbformat_minor": 0,
  "metadata": {
    "colab": {
      "provenance": [],
      "machine_shape": "hm",
      "include_colab_link": true
    },
    "kernelspec": {
      "name": "python3",
      "display_name": "Python 3"
    },
    "language_info": {
      "name": "python"
    },
    "accelerator": "GPU",
    "gpuClass": "standard"
  },
  "cells": [
    {
      "cell_type": "markdown",
      "metadata": {
        "id": "view-in-github",
        "colab_type": "text"
      },
      "source": [
        "<a href=\"https://colab.research.google.com/github/aathira55/DL-for-computer-vision/blob/main/6_2_Finetuning.ipynb\" target=\"_parent\"><img src=\"https://colab.research.google.com/assets/colab-badge.svg\" alt=\"Open In Colab\"/></a>"
      ]
    },
    {
      "cell_type": "code",
      "source": [
        "from google.colab import drive\n",
        "drive.mount('/content/drive')"
      ],
      "metadata": {
        "colab": {
          "base_uri": "https://localhost:8080/"
        },
        "id": "Zof-9rOL-ql7",
        "outputId": "180b9adb-a241-43fb-8287-37e40b7c5418"
      },
      "execution_count": 3,
      "outputs": [
        {
          "output_type": "stream",
          "name": "stdout",
          "text": [
            "Drive already mounted at /content/drive; to attempt to forcibly remount, call drive.mount(\"/content/drive\", force_remount=True).\n"
          ]
        }
      ]
    },
    {
      "cell_type": "code",
      "execution_count": 4,
      "metadata": {
        "colab": {
          "base_uri": "https://localhost:8080/"
        },
        "id": "JsYLfv0YuVPv",
        "outputId": "459f0466-5cfa-42e3-db07-c375e87eabd5"
      },
      "outputs": [
        {
          "output_type": "stream",
          "name": "stdout",
          "text": [
            "2.9.2\n"
          ]
        }
      ],
      "source": [
        "import tensorflow as tf\n",
        "print(tf.__version__)\n",
        "\n",
        "from tensorflow import keras\n",
        "tf.random.set_seed(42)\n",
        "\n",
        "import numpy as np\n",
        "np.random.seed(42)\n",
        "\n",
        "import matplotlib.pyplot as plt\n",
        "%matplotlib inline"
      ]
    },
    {
      "cell_type": "markdown",
      "source": [
        "#Load the dataset which is already processed"
      ],
      "metadata": {
        "id": "Hdi6sVd4uiaA"
      }
    },
    {
      "cell_type": "code",
      "source": [
        "# load numpy array from npy file\n",
        "from numpy import load\n",
        "\n",
        "X_train_std = load('/content/drive/MyDrive/Models/X_train_std.npy')\n",
        "X_test_std = load('/content/drive/MyDrive/Models/X_test_std.npy')\n",
        "\n",
        "y_train = load('/content/drive/MyDrive/Models/y_train.npy')\n",
        "y_test = load('/content/drive/MyDrive/Models/y_test.npy')"
      ],
      "metadata": {
        "id": "YDyrFa4HubnX",
        "outputId": "33d2eb1d-1cdf-4d4d-d6ad-e1b869cd3fb6",
        "colab": {
          "base_uri": "https://localhost:8080/",
          "height": 356
        }
      },
      "execution_count": 5,
      "outputs": [
        {
          "output_type": "error",
          "ename": "FileNotFoundError",
          "evalue": "ignored",
          "traceback": [
            "\u001b[0;31m---------------------------------------------------------------------------\u001b[0m",
            "\u001b[0;31mFileNotFoundError\u001b[0m                         Traceback (most recent call last)",
            "\u001b[0;32m<ipython-input-5-f9b85ec73e65>\u001b[0m in \u001b[0;36m<module>\u001b[0;34m\u001b[0m\n\u001b[1;32m      2\u001b[0m \u001b[0;32mfrom\u001b[0m \u001b[0mnumpy\u001b[0m \u001b[0;32mimport\u001b[0m \u001b[0mload\u001b[0m\u001b[0;34m\u001b[0m\u001b[0;34m\u001b[0m\u001b[0m\n\u001b[1;32m      3\u001b[0m \u001b[0;34m\u001b[0m\u001b[0m\n\u001b[0;32m----> 4\u001b[0;31m \u001b[0mX_train_std\u001b[0m \u001b[0;34m=\u001b[0m \u001b[0mload\u001b[0m\u001b[0;34m(\u001b[0m\u001b[0;34m'/content/drive/MyDrive/Models/X_train_std.npy'\u001b[0m\u001b[0;34m)\u001b[0m\u001b[0;34m\u001b[0m\u001b[0;34m\u001b[0m\u001b[0m\n\u001b[0m\u001b[1;32m      5\u001b[0m \u001b[0mX_test_std\u001b[0m \u001b[0;34m=\u001b[0m \u001b[0mload\u001b[0m\u001b[0;34m(\u001b[0m\u001b[0;34m'/content/drive/MyDrive/Models/X_test_std.npy'\u001b[0m\u001b[0;34m)\u001b[0m\u001b[0;34m\u001b[0m\u001b[0;34m\u001b[0m\u001b[0m\n\u001b[1;32m      6\u001b[0m \u001b[0;34m\u001b[0m\u001b[0m\n",
            "\u001b[0;32m/usr/local/lib/python3.8/dist-packages/numpy/lib/npyio.py\u001b[0m in \u001b[0;36mload\u001b[0;34m(file, mmap_mode, allow_pickle, fix_imports, encoding)\u001b[0m\n\u001b[1;32m    415\u001b[0m             \u001b[0mown_fid\u001b[0m \u001b[0;34m=\u001b[0m \u001b[0;32mFalse\u001b[0m\u001b[0;34m\u001b[0m\u001b[0;34m\u001b[0m\u001b[0m\n\u001b[1;32m    416\u001b[0m         \u001b[0;32melse\u001b[0m\u001b[0;34m:\u001b[0m\u001b[0;34m\u001b[0m\u001b[0;34m\u001b[0m\u001b[0m\n\u001b[0;32m--> 417\u001b[0;31m             \u001b[0mfid\u001b[0m \u001b[0;34m=\u001b[0m \u001b[0mstack\u001b[0m\u001b[0;34m.\u001b[0m\u001b[0menter_context\u001b[0m\u001b[0;34m(\u001b[0m\u001b[0mopen\u001b[0m\u001b[0;34m(\u001b[0m\u001b[0mos_fspath\u001b[0m\u001b[0;34m(\u001b[0m\u001b[0mfile\u001b[0m\u001b[0;34m)\u001b[0m\u001b[0;34m,\u001b[0m \u001b[0;34m\"rb\"\u001b[0m\u001b[0;34m)\u001b[0m\u001b[0;34m)\u001b[0m\u001b[0;34m\u001b[0m\u001b[0;34m\u001b[0m\u001b[0m\n\u001b[0m\u001b[1;32m    418\u001b[0m             \u001b[0mown_fid\u001b[0m \u001b[0;34m=\u001b[0m \u001b[0;32mTrue\u001b[0m\u001b[0;34m\u001b[0m\u001b[0;34m\u001b[0m\u001b[0m\n\u001b[1;32m    419\u001b[0m \u001b[0;34m\u001b[0m\u001b[0m\n",
            "\u001b[0;31mFileNotFoundError\u001b[0m: [Errno 2] No such file or directory: '/content/drive/MyDrive/Models/X_train_std.npy'"
          ]
        }
      ]
    },
    {
      "cell_type": "code",
      "source": [
        "print(\"X_train_std_shape: {}\".format(X_train_std.shape))\n",
        "print(\"X_test_std_shape: {}\".format(X_test_std.shape))"
      ],
      "metadata": {
        "id": "-zREyC3wujts"
      },
      "execution_count": null,
      "outputs": []
    },
    {
      "cell_type": "code",
      "source": [
        "# Load the saved best model\n",
        "\n",
        "model_FineTune = keras.models.load_model('/content/drive/MyDrive/Models/01_Xception_TransferLearning_Best_Model.h5')"
      ],
      "metadata": {
        "id": "6KNKodIuu1Hi"
      },
      "execution_count": null,
      "outputs": []
    },
    {
      "cell_type": "code",
      "source": [
        "model_FineTune.summary()"
      ],
      "metadata": {
        "id": "eyf4Llhou4gQ"
      },
      "execution_count": null,
      "outputs": []
    },
    {
      "cell_type": "code",
      "source": [
        "model_FineTune.layers"
      ],
      "metadata": {
        "id": "oE9nKkIV-8cA"
      },
      "execution_count": null,
      "outputs": []
    },
    {
      "cell_type": "code",
      "source": [
        "len(model_FineTune.layers)"
      ],
      "metadata": {
        "id": "y4626IaH_eU3"
      },
      "execution_count": null,
      "outputs": []
    },
    {
      "cell_type": "markdown",
      "metadata": {
        "id": "DHcuJyEDWXNe"
      },
      "source": [
        "## Freeze only first 60 layers\n",
        "- It is a `hyperparameter`"
      ]
    },
    {
      "cell_type": "code",
      "source": [
        "# Fine-tune the model from index 60 onwards\n",
        "\n",
        "for layer in model_FineTune.layers[:60]:\n",
        "  layer.trainable = False\n",
        "\n",
        "for layer in model_FineTune.layers[60:]:\n",
        "  layer.trainable = True\n"
      ],
      "metadata": {
        "id": "EEzqJAlxu8vm"
      },
      "execution_count": null,
      "outputs": []
    },
    {
      "cell_type": "markdown",
      "source": [
        "#Compile and train the model\n",
        "\n",
        "\n",
        "*  Save the best weights while training\n",
        "\n",
        "\n"
      ],
      "metadata": {
        "id": "LQP-f3nHvWnK"
      }
    },
    {
      "cell_type": "code",
      "source": [
        "model_FineTune.compile(loss='sparse_categorical_crossentropy', \n",
        "                 optimizer='adam', \n",
        "                 metrics=['accuracy'])\n",
        "\n",
        "callbacks_FineTune = [            \n",
        "             keras.callbacks.ModelCheckpoint(\"bestFT.h5\",\n",
        "                                             monitor='val_accuracy',\n",
        "                                             save_weights_only=True,\n",
        "                                             save_best_only=True)\n",
        "]\n",
        "\n",
        "history_FineTune = model_FineTune.fit(x = X_train_std, y = y_train, epochs=50,\n",
        "                                      validation_split=0.1, batch_size=16, callbacks=callbacks_FineTune)"
      ],
      "metadata": {
        "id": "XKKmg1UJvP_n"
      },
      "execution_count": null,
      "outputs": []
    },
    {
      "cell_type": "markdown",
      "source": [
        "# Plot accuracy"
      ],
      "metadata": {
        "id": "pAw314Djvng8"
      }
    },
    {
      "cell_type": "code",
      "source": [
        "keys = ['accuracy', 'val_accuracy']\n",
        "progress = {k:v for k,v in history_FineTune.history.items() if k in keys}\n",
        "\n",
        "import pandas as pd\n",
        "pd.DataFrame(progress).plot()\n",
        "\n",
        "plt.xlabel(\"epochs\")\n",
        "plt.ylabel(\"accuracy\")\n",
        "\n",
        "plt.grid(True)\n",
        "plt.show()"
      ],
      "metadata": {
        "id": "Zt_tbGJCvTtY"
      },
      "execution_count": null,
      "outputs": []
    },
    {
      "cell_type": "markdown",
      "source": [
        "## Evaluate the fine-tuned model\n",
        "- Trained for 50-epochs"
      ],
      "metadata": {
        "id": "PKl5hPdwvvVd"
      }
    },
    {
      "cell_type": "code",
      "source": [
        "testLoss_FineTune, testAccuracy_FineTune = model_FineTune.evaluate(x = X_test_std, y = y_test)\n",
        "print(\"Test-loss: %f, Test-accuracy: %f\" % (testLoss_FineTune, testAccuracy_FineTune))"
      ],
      "metadata": {
        "id": "YB3Qad3Svriw"
      },
      "execution_count": null,
      "outputs": []
    },
    {
      "cell_type": "markdown",
      "source": [
        "## Update the model with best weights and evaluate\n",
        "- Saved based on the callback"
      ],
      "metadata": {
        "id": "kX5C6ktRv4nh"
      }
    },
    {
      "cell_type": "code",
      "source": [
        "model_FineTune.load_weights(\"bestFT.h5\")\n",
        "\n",
        "testLoss_FineTune, testAccuracy_FineTune = model_FineTune.evaluate(x = X_test_std, y = y_test)\n",
        "\n",
        "print(\"Test-loss: %f, Test-accuracy: %f\" % (testLoss_FineTune, testAccuracy_FineTune))"
      ],
      "metadata": {
        "id": "pIPWjQDdv0Pz"
      },
      "execution_count": null,
      "outputs": []
    },
    {
      "cell_type": "markdown",
      "source": [
        "#Get the prediction of a single sample"
      ],
      "metadata": {
        "id": "vymD_20ZwA1j"
      }
    },
    {
      "cell_type": "code",
      "source": [
        "cProba = model_FineTune.predict(X_test_std[:1])\n",
        "\n",
        "print(cProba)"
      ],
      "metadata": {
        "id": "_pwOtksTv76A"
      },
      "execution_count": null,
      "outputs": []
    },
    {
      "cell_type": "code",
      "source": [
        "cLabel = np.argmax(cProba, axis=-1) \n",
        "\n",
        "print(cLabel)"
      ],
      "metadata": {
        "id": "R0gdzlmdwDwP"
      },
      "execution_count": null,
      "outputs": []
    },
    {
      "cell_type": "code",
      "source": [
        "print(y_test[:1])"
      ],
      "metadata": {
        "id": "4h3GKIsqwIa7"
      },
      "execution_count": null,
      "outputs": []
    },
    {
      "cell_type": "markdown",
      "source": [
        "#Save the final Fine-Tuned model"
      ],
      "metadata": {
        "id": "SUpUnGfBwKuK"
      }
    },
    {
      "cell_type": "code",
      "source": [
        "# Saves the best model obtained\n",
        "model_FineTune.save('/content/drive/MyDrive/Models/02_Xception_FineTuned_Best_Model.h5')"
      ],
      "metadata": {
        "id": "NUxMGE-_wMCc"
      },
      "execution_count": null,
      "outputs": []
    }
  ]
}